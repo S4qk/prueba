{
 "cells": [
  {
   "cell_type": "markdown",
   "id": "a2ae13a8-e85a-41ad-bd7e-af1ee3b69ed4",
   "metadata": {},
   "source": [
    "# # Titulo Grande"
   ]
  },
  {
   "cell_type": "markdown",
   "id": "ab9c508a-7524-4f0f-bca9-4c3fcaac2fd8",
   "metadata": {},
   "source": [
    "## ## Subtitulo"
   ]
  },
  {
   "cell_type": "markdown",
   "id": "6ef1f049-3594-42b4-aa36-1d218751d7a5",
   "metadata": {},
   "source": [
    "### ### Seccion"
   ]
  },
  {
   "cell_type": "markdown",
   "id": "14ea94d9-904b-4722-a785-be41d3a651a6",
   "metadata": {},
   "source": [
    "Texto en ** **negritas** ** y * *cursivas* *"
   ]
  },
  {
   "cell_type": "markdown",
   "id": "bc2bb77d-3137-4868-ad82-ac4fedd5d54e",
   "metadata": {},
   "source": [
    "- Lista(-)\n",
    "    - Sublista(  -)\n",
    "\n",
    "1. Lista enumerada (1.) "
   ]
  },
  {
   "attachments": {},
   "cell_type": "markdown",
   "id": "ee2bce42-b2a4-41cd-b9d8-0457dac53781",
   "metadata": {},
   "source": [
    " `codigo en texto` `"
   ]
  },
  {
   "cell_type": "markdown",
   "id": "48fd3464-bdb6-4d4f-8f77-b9dc707cd0f0",
   "metadata": {},
   "source": [
    "``` For most programming languages, including Python, there are many tools you can use to write and run programs. These tools are called integrated development environments (IDEs). In general, there are two kinds of IDEs:\n",
    "\n",
    "texto no visible ```"
   ]
  },
  {
   "cell_type": "code",
   "execution_count": 1,
   "id": "bd87bcc9-4db7-4f9c-bed4-86f5ed26da8f",
   "metadata": {},
   "outputs": [
    {
     "name": "stdout",
     "output_type": "stream",
     "text": [
      "8\n"
     ]
    }
   ],
   "source": [
    "print(8)"
   ]
  }
 ],
 "metadata": {
  "kernelspec": {
   "display_name": "Python [conda env:base] *",
   "language": "python",
   "name": "conda-base-py"
  },
  "language_info": {
   "codemirror_mode": {
    "name": "ipython",
    "version": 3
   },
   "file_extension": ".py",
   "mimetype": "text/x-python",
   "name": "python",
   "nbconvert_exporter": "python",
   "pygments_lexer": "ipython3",
   "version": "3.13.5"
  }
 },
 "nbformat": 4,
 "nbformat_minor": 5
}
